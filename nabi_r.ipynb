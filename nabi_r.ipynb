{
 "cells": [
  {
   "cell_type": "code",
   "execution_count": 2,
   "id": "a6b36266-71bd-435d-b492-700e3473d714",
   "metadata": {},
   "outputs": [],
   "source": [
    "from scipy import*\n",
    "from scipy.stats import norm \n",
    "import matplotlib.pyplot as plt"
   ]
  },
  {
   "cell_type": "code",
   "execution_count": 3,
   "id": "d6930f0b-a5b6-48de-9e78-437aa3971cc4",
   "metadata": {},
   "outputs": [
    {
     "name": "stderr",
     "output_type": "stream",
     "text": [
      "<ipython-input-3-1bcfa9ffd240>:5: DeprecationWarning: scipy.sqrt is deprecated and will be removed in SciPy 2.0.0, use numpy.lib.scimath.sqrt instead\n",
      "  sigma=sqrt(0.15)\n"
     ]
    }
   ],
   "source": [
    "S0=100\n",
    "E=104\n",
    "T=2\n",
    "r=-0.02\n",
    "sigma=sqrt(0.15)"
   ]
  },
  {
   "cell_type": "markdown",
   "id": "ce2edcd1-c969-4d7a-8639-0ffd37534227",
   "metadata": {},
   "source": [
    "## American and European call option using Jarrow-Rudd method parameters"
   ]
  },
  {
   "cell_type": "code",
   "execution_count": 4,
   "id": "30621e83-d884-4881-9404-d1e84835b701",
   "metadata": {},
   "outputs": [],
   "source": [
    "def Eu_jr(S0,E,T,N,r,sigma):\n",
    "    \"\"\"\n",
    "    Finding the prices of European call option using Jarrow-Rudd method parameters\n",
    "    S0=100\n",
    "    E=104\n",
    "    T=2\n",
    "    r=-0.2(call option)\n",
    "    sigma=sqrt(0.15)->volatility\n",
    "    \"\"\"\n",
    "    dt=T/N\n",
    "    rho=r-0.5*sigma*sigma\n",
    "    D=exp(rho*dt-sigma*sqrt(dt))\n",
    "    U=exp(rho*dt+sigma*sqrt(dt))\n",
    "    R=(exp(r*dt))\n",
    "    q=(R-D)/(U-D)\n",
    "    Vold=zeros(N+1)\n",
    "    Vnew=zeros(N+1)\n",
    "    for m in range (0,N+1):\n",
    "        Vold[m]=max(S0*U**m*D**(N-m)-E,0)\n",
    "    for j in range(N-1,-1,-1):\n",
    "        for m in range(0,j+1):\n",
    "            Vnew[m]=(q*Vold[m+1]+(1-q)*Vold[m])/R\n",
    "        for m in range(0,j+1):\n",
    "            Vold[m]=Vnew[m]\n",
    "    return (Vnew[0])"
   ]
  },
  {
   "cell_type": "code",
   "execution_count": 5,
   "id": "447e01dd-4638-4a07-a14f-e4aaeff29675",
   "metadata": {},
   "outputs": [],
   "source": [
    "def Americ_jr(S0,E,T,N,r,sigma):\n",
    "    \"\"\"\n",
    "    Finding the prices of American call option using Jarrow-Rudd method parameters\n",
    "    S0=100\n",
    "    E=104\n",
    "    T=2\n",
    "    r=-0.2(call option)\n",
    "    sigma=sqrt(0.15)->volatility\n",
    "    \"\"\"\n",
    "    dt=T/N\n",
    "    rho=r-0.5*sigma*sigma\n",
    "    D=exp(rho*dt-sigma*sqrt(dt))\n",
    "    U=exp(rho*dt+sigma*sqrt(dt))\n",
    "    R=(exp(r*dt))\n",
    "    q=(R-D)/(U-D)\n",
    "    Vold=zeros(N+1)\n",
    "    Vnew=zeros(N+1)\n",
    "    for m in range(0,N+1):\n",
    "        Vold[m]= max(E-S0*U**m*D**(N-m),0)  \n",
    "    for j in range(N-1,-1,-1):\n",
    "        for m in range(0,j+1):\n",
    "            Vnew[m]=(q*Vold[m+1]+(1-q)*Vold[m])/R\n",
    "            Vnew[m]=max(Vnew[m], max(E-S0*U**m*D**(j-m),0))\n",
    "        for m in range(0,j+1):\n",
    "            Vold[m]=Vnew[m]\n",
    "    return(Vnew[0])"
   ]
  },
  {
   "cell_type": "code",
   "execution_count": 6,
   "id": "1ae3afb7-a3ec-422f-9ba6-2769f808442e",
   "metadata": {},
   "outputs": [
    {
     "name": "stderr",
     "output_type": "stream",
     "text": [
      "<ipython-input-4-37cf9afa1894>:12: DeprecationWarning: scipy.sqrt is deprecated and will be removed in SciPy 2.0.0, use numpy.lib.scimath.sqrt instead\n",
      "  D=exp(rho*dt-sigma*sqrt(dt))\n",
      "<ipython-input-4-37cf9afa1894>:12: DeprecationWarning: scipy.exp is deprecated and will be removed in SciPy 2.0.0, use numpy.exp instead\n",
      "  D=exp(rho*dt-sigma*sqrt(dt))\n",
      "<ipython-input-4-37cf9afa1894>:13: DeprecationWarning: scipy.sqrt is deprecated and will be removed in SciPy 2.0.0, use numpy.lib.scimath.sqrt instead\n",
      "  U=exp(rho*dt+sigma*sqrt(dt))\n",
      "<ipython-input-4-37cf9afa1894>:13: DeprecationWarning: scipy.exp is deprecated and will be removed in SciPy 2.0.0, use numpy.exp instead\n",
      "  U=exp(rho*dt+sigma*sqrt(dt))\n",
      "<ipython-input-4-37cf9afa1894>:14: DeprecationWarning: scipy.exp is deprecated and will be removed in SciPy 2.0.0, use numpy.exp instead\n",
      "  R=(exp(r*dt))\n",
      "<ipython-input-4-37cf9afa1894>:16: DeprecationWarning: scipy.zeros is deprecated and will be removed in SciPy 2.0.0, use numpy.zeros instead\n",
      "  Vold=zeros(N+1)\n",
      "<ipython-input-4-37cf9afa1894>:17: DeprecationWarning: scipy.zeros is deprecated and will be removed in SciPy 2.0.0, use numpy.zeros instead\n",
      "  Vnew=zeros(N+1)\n"
     ]
    },
    {
     "name": "stdout",
     "output_type": "stream",
     "text": [
      "The European call option price is 18.58863.\n",
      "The European call option price is 18.57655.\n",
      "The European call option price is 18.58253.\n",
      "The American call option price is 26.83295.\n",
      "The American call option price is 26.82087.\n",
      "The American call option price is 26.82685.\n"
     ]
    }
   ],
   "source": [
    "print('The European call option price is %8.5f.' % Eu_jr(S0,E,T,300,r,sigma))\n",
    "print('The European call option price is %8.5f.' % Eu_jr(S0,E,T,400,r,sigma))\n",
    "print('The European call option price is %8.5f.' % Eu_jr(S0,E,T,500,r,sigma))\n",
    "print('The American call option price is %8.5f.' % Americ_jr(S0,E,T,300,r,sigma))\n",
    "print('The American call option price is %8.5f.' % Americ_jr(S0,E,T,400,r,sigma))\n",
    "print('The American call option price is %8.5f.' % Americ_jr(S0,E,T,500,r,sigma))"
   ]
  },
  {
   "cell_type": "markdown",
   "id": "f43cba71-f7c1-4e9f-a3fc-8201aeaf60d1",
   "metadata": {},
   "source": [
    "## American and European call option using Leisen-Reimer method"
   ]
  },
  {
   "cell_type": "code",
   "execution_count": 7,
   "id": "8cd5d9da-d0b5-4e2e-bee8-0e45b9a1662b",
   "metadata": {},
   "outputs": [],
   "source": [
    "def Eu_lr(S0,E,T,N,r,sigma):\n",
    "    \"\"\"\n",
    "    Finding the prices of European call option using Leisen-Reimer method parameters\n",
    "    S0=100\n",
    "    E=104\n",
    "    T=2\n",
    "    r=-0.2(call option)\n",
    "    sigma=sqrt(0.15)->volatility\n",
    "    \"\"\"\n",
    "    if N%2 == 0:\n",
    "        N=N+1\n",
    "    dt = T/N\n",
    "    R = (exp(r*dt))\n",
    "    d1=(log(S0/E)+(r+0.5*sigma**2)*T)/(sigma*sqrt(T))\n",
    "    d2=d1-sigma*sqrt(T)\n",
    "    a1=((d1**2)/(N + 1/3 + 0.1/(N+1))**2)*(N+1/6)\n",
    "    a2=((d2**2)/(N + 1/3 + 0.1/(N+1))**2)*(N+1/6)\n",
    "    q1=0.5 + 0.5*sign(d1)*sqrt((1-exp(-a1)))\n",
    "    q=0.5 + 0.5*sign(d2)*sqrt((1-exp(-a2)))\n",
    "    U=(R*q1)/q\n",
    "    D=(R-q*U)/(1-q)\n",
    "    Vold=zeros(N+1)\n",
    "    Vnew=zeros(N+1)\n",
    "    for m in range(0,N+1):\n",
    "        Vold[m]= max(S0*U**m*D**(N-m)-E,0)  \n",
    "    for j in range(N-1,-1,-1):\n",
    "        for m in range(0,j+1):\n",
    "            Vnew[m]=(q*Vold[m+1]+(1-q)*Vold[m])/R\n",
    "        for m in range(0,j+1):\n",
    "            Vold[m]=Vnew[m]\n",
    "    return(Vnew[0])"
   ]
  },
  {
   "cell_type": "code",
   "execution_count": 8,
   "id": "8843a883-9ac5-4a35-8dc5-5534864d1a0d",
   "metadata": {},
   "outputs": [],
   "source": [
    "def Americ_lr(S0,E,T,N,r,sigma):\n",
    "    \"\"\"\n",
    "    Finding the prices of American call option using Leisen-Reimer method parameters\n",
    "    S0=100\n",
    "    E=104\n",
    "    T=2\n",
    "    r=-0.2(call option)\n",
    "    sigma=sqrt(0.15)->volatility\n",
    "    \"\"\"\n",
    "    if N%2 == 0:\n",
    "        N=N+1\n",
    "    dt = T/N\n",
    "    R = (exp(r*dt))\n",
    "    d1=(log(S0/E)+(r+0.5*sigma**2)*T)/(sigma*sqrt(T))\n",
    "    d2=d1-sigma*sqrt(T)\n",
    "    a1=((d1**2)/(N + 1/3 + 0.1/(N+1))**2)*(N+1/6)\n",
    "    a2=((d2**2)/(N + 1/3 + 0.1/(N+1))**2)*(N+1/6)\n",
    "    q1=0.5 + 0.5*sign(d1)*sqrt((1-exp(-a1)))\n",
    "    q=0.5 + 0.5*sign(d2)*sqrt((1-exp(-a2)))\n",
    "    U=(R*q1)/q\n",
    "    D=(R-q*U)/(1-q)\n",
    "    Vold=zeros(N+1)\n",
    "    Vnew=zeros(N+1)\n",
    "    for m in range(0,N+1):\n",
    "        Vold[m]= max(E-S0*U**m*D**(N-m),0)  \n",
    "    for j in range(N-1,-1,-1):\n",
    "        for m in range(0,j+1):\n",
    "            Vnew[m]=(q*Vold[m+1]+(1-q)*Vold[m])/R\n",
    "            Vnew[m]=max(Vnew[m], max(E-S0*U**m*D**(j-m),0))\n",
    "        for m in range(0,j+1):\n",
    "            Vold[m]=Vnew[m]\n",
    "    return(Vnew[0])"
   ]
  },
  {
   "cell_type": "code",
   "execution_count": 9,
   "id": "609a7592-3c65-427e-8404-90ddfc323a95",
   "metadata": {},
   "outputs": [
    {
     "name": "stderr",
     "output_type": "stream",
     "text": [
      "<ipython-input-7-a4eec3dbab15>:13: DeprecationWarning: scipy.exp is deprecated and will be removed in SciPy 2.0.0, use numpy.exp instead\n",
      "  R = (exp(r*dt))\n",
      "<ipython-input-7-a4eec3dbab15>:14: DeprecationWarning: scipy.log is deprecated and will be removed in SciPy 2.0.0, use numpy.lib.scimath.log instead\n",
      "  d1=(log(S0/E)+(r+0.5*sigma**2)*T)/(sigma*sqrt(T))\n",
      "<ipython-input-7-a4eec3dbab15>:14: DeprecationWarning: scipy.sqrt is deprecated and will be removed in SciPy 2.0.0, use numpy.lib.scimath.sqrt instead\n",
      "  d1=(log(S0/E)+(r+0.5*sigma**2)*T)/(sigma*sqrt(T))\n",
      "<ipython-input-7-a4eec3dbab15>:15: DeprecationWarning: scipy.sqrt is deprecated and will be removed in SciPy 2.0.0, use numpy.lib.scimath.sqrt instead\n",
      "  d2=d1-sigma*sqrt(T)\n",
      "<ipython-input-7-a4eec3dbab15>:18: DeprecationWarning: scipy.sign is deprecated and will be removed in SciPy 2.0.0, use numpy.sign instead\n",
      "  q1=0.5 + 0.5*sign(d1)*sqrt((1-exp(-a1)))\n",
      "<ipython-input-7-a4eec3dbab15>:18: DeprecationWarning: scipy.exp is deprecated and will be removed in SciPy 2.0.0, use numpy.exp instead\n",
      "  q1=0.5 + 0.5*sign(d1)*sqrt((1-exp(-a1)))\n",
      "<ipython-input-7-a4eec3dbab15>:18: DeprecationWarning: scipy.sqrt is deprecated and will be removed in SciPy 2.0.0, use numpy.lib.scimath.sqrt instead\n",
      "  q1=0.5 + 0.5*sign(d1)*sqrt((1-exp(-a1)))\n",
      "<ipython-input-7-a4eec3dbab15>:19: DeprecationWarning: scipy.sign is deprecated and will be removed in SciPy 2.0.0, use numpy.sign instead\n",
      "  q=0.5 + 0.5*sign(d2)*sqrt((1-exp(-a2)))\n",
      "<ipython-input-7-a4eec3dbab15>:19: DeprecationWarning: scipy.exp is deprecated and will be removed in SciPy 2.0.0, use numpy.exp instead\n",
      "  q=0.5 + 0.5*sign(d2)*sqrt((1-exp(-a2)))\n",
      "<ipython-input-7-a4eec3dbab15>:19: DeprecationWarning: scipy.sqrt is deprecated and will be removed in SciPy 2.0.0, use numpy.lib.scimath.sqrt instead\n",
      "  q=0.5 + 0.5*sign(d2)*sqrt((1-exp(-a2)))\n",
      "<ipython-input-7-a4eec3dbab15>:22: DeprecationWarning: scipy.zeros is deprecated and will be removed in SciPy 2.0.0, use numpy.zeros instead\n",
      "  Vold=zeros(N+1)\n",
      "<ipython-input-7-a4eec3dbab15>:23: DeprecationWarning: scipy.zeros is deprecated and will be removed in SciPy 2.0.0, use numpy.zeros instead\n",
      "  Vnew=zeros(N+1)\n"
     ]
    },
    {
     "name": "stdout",
     "output_type": "stream",
     "text": [
      "The European call option price is 18.57698.\n",
      "The European call option price is 18.57698.\n",
      "The European call option price is 18.57698.\n",
      "The American call option price is 26.82130.\n",
      "The American call option price is 26.82130.\n",
      "The American call option price is 26.82130.\n"
     ]
    }
   ],
   "source": [
    "print('The European call option price is %8.5f.' % Eu_lr(S0,E,T,300,r,sigma))\n",
    "print('The European call option price is %8.5f.' % Eu_lr(S0,E,T,400,r,sigma))\n",
    "print('The European call option price is %8.5f.' % Eu_lr(S0,E,T,500,r,sigma))\n",
    "print('The American call option price is %8.5f.' % Americ_lr(S0,E,T,300,r,sigma))\n",
    "print('The American call option price is %8.5f.' % Americ_lr(S0,E,T,400,r,sigma))\n",
    "print('The American call option price is %8.5f.' % Americ_lr(S0,E,T,500,r,sigma))"
   ]
  },
  {
   "cell_type": "markdown",
   "id": "c28c46ac-b8fd-4607-93c3-0004035d4b1b",
   "metadata": {},
   "source": [
    "## Trinomial model"
   ]
  },
  {
   "cell_type": "code",
   "execution_count": 10,
   "id": "fd588aae-d3d3-4a8b-b2b8-4c9071d70478",
   "metadata": {},
   "outputs": [],
   "source": [
    "def Eu_trinomial(S0,E,T,r,DividendYield,sigma,N):\n",
    "    C={}\n",
    "    dt=T/N\n",
    "    Up=math.exp(sigma*math.sqrt(2*dt))\n",
    "    Down=math.exp(-sigma*math.sqrt(2*dt))\n",
    "    R=math.exp(r*dt)\n",
    "    a=math.exp((r-DividendYield)*dt/2)\n",
    "    a1=math.exp(sigma*math.sqrt(dt/2))\n",
    "    a2=math.exp(-sigma*math.sqrt(dt/2))\n",
    "    pi_up=((a-a2)/(a1-a2))**2\n",
    "    pi_down=((a1-a)/(a1-a2))**2\n",
    "    pim=1-pi_up-pi_down\n",
    "    for m in range(0,2*N+1):\n",
    "        C[(N,m)]=max((S0*(Up**(max(m-N,0)))*(Down**(max(N*2-N-m,0))))- E, 0)\n",
    "    for k in range(N-1,-1,-1):\n",
    "        for m in range(0,2*k+1):\n",
    "            C[(k,m)] = (pi_up * C[(k+1, m+2)] + pim * C[(k+1, m+1)]+ pi_down * C[(k+1, m)])/R\n",
    "    return C[(0,0)]"
   ]
  },
  {
   "cell_type": "code",
   "execution_count": 11,
   "id": "f2bf0073-d88b-4b4f-aff4-d5ce8f4d9fcd",
   "metadata": {},
   "outputs": [],
   "source": [
    "def American_trinomial(S0,E,T,r,DividendYield,sigma,N):\n",
    "    C={}\n",
    "    dt=T/N\n",
    "    Up=math.exp(sigma*math.sqrt(2*dt))\n",
    "    Down=math.exp(-sigma*math.sqrt(2*dt))\n",
    "    R=math.exp(r*dt)\n",
    "    a=math.exp((r-DividendYield)*dt/2)\n",
    "    a1=math.exp(sigma*math.sqrt(dt/2))\n",
    "    a2=math.exp(-sigma*math.sqrt(dt/2))\n",
    "    pi_up=((a-a2)/(a1-a2))**2\n",
    "    pi_down=((a1-a)/(a1-a2))**2\n",
    "    pim=1-pi_up-pi_down\n",
    "    for m in range(0,2*N+1):\n",
    "        C[(N,m)]=max((E-S0*(Up**(max(m-N,0)))*(Down**(max(N*2-N-m,0)))), 0)\n",
    "    for k in range(N-1,-1,-1):\n",
    "        for m in range(0,2*k+1):\n",
    "            C[(k,m)] = (pi_up * C[(k+1, m+2)] + pim * C[(k+1, m+1)]+ pi_down * C[(k+1, m)])/R\n",
    "    return C[(0,0)]"
   ]
  },
  {
   "cell_type": "code",
   "execution_count": 12,
   "id": "708f95a9-3a2d-45c9-b0fd-ab92914c6c70",
   "metadata": {},
   "outputs": [
    {
     "name": "stdout",
     "output_type": "stream",
     "text": [
      "The European call option price is 18.57552.\n",
      "The European call option price is 18.57070.\n",
      "The European call option price is 18.57638.\n",
      "The American call option price is 26.81984.\n",
      "The American call option price is 26.81502.\n",
      "The American call option price is 26.82070.\n"
     ]
    }
   ],
   "source": [
    "DividendYield=0\n",
    "print('The European call option price is %8.5f.' % Eu_trinomial(S0,E,T,r,DividendYield,sigma,300))\n",
    "print('The European call option price is %8.5f.' % Eu_trinomial(S0,E,T,r,DividendYield,sigma,400))\n",
    "print('The European call option price is %8.5f.' % Eu_trinomial(S0,E,T,r,DividendYield,sigma,500))\n",
    "print('The American call option price is %8.5f.' % American_trinomial(S0,E,T,r,DividendYield,sigma,300))\n",
    "print('The American call option price is %8.5f.' % American_trinomial(S0,E,T,r,DividendYield,sigma,400))\n",
    "print('The American call option price is %8.5f.' % American_trinomial(S0,E,T,r,DividendYield,sigma,500))"
   ]
  },
  {
   "cell_type": "code",
   "execution_count": 14,
   "id": "1546c2f1-6a12-4a2d-b5de-61063c11d889",
   "metadata": {},
   "outputs": [
    {
     "name": "stdout",
     "output_type": "stream",
     "text": [
      "18.57699\n"
     ]
    },
    {
     "name": "stderr",
     "output_type": "stream",
     "text": [
      "<ipython-input-14-cbabcb9c64bd>:1: DeprecationWarning: scipy.sqrt is deprecated and will be removed in SciPy 2.0.0, use numpy.lib.scimath.sqrt instead\n",
      "  d1=(math.log(S0/E)+(r+0.5*sigma**2)*T)/(sigma*sqrt(T))\n",
      "<ipython-input-14-cbabcb9c64bd>:2: DeprecationWarning: scipy.sqrt is deprecated and will be removed in SciPy 2.0.0, use numpy.lib.scimath.sqrt instead\n",
      "  d2=d1-sigma*sqrt(T)\n",
      "<ipython-input-14-cbabcb9c64bd>:3: DeprecationWarning: scipy.exp is deprecated and will be removed in SciPy 2.0.0, use numpy.exp instead\n",
      "  V_call=S0*norm.cdf(d1)-E*exp(-r*T)*norm.cdf(d2)\n"
     ]
    }
   ],
   "source": [
    "d1=(math.log(S0/E)+(r+0.5*sigma**2)*T)/(sigma*sqrt(T))\n",
    "d2=d1-sigma*sqrt(T)\n",
    "V_call=S0*norm.cdf(d1)-E*exp(-r*T)*norm.cdf(d2) \n",
    "print('%8.5f' %V_call)"
   ]
  },
  {
   "cell_type": "code",
   "execution_count": 16,
   "id": "bd19b75f-c711-4e48-af73-e56f1052c16f",
   "metadata": {},
   "outputs": [
    {
     "name": "stderr",
     "output_type": "stream",
     "text": [
      "<ipython-input-4-37cf9afa1894>:12: DeprecationWarning: scipy.sqrt is deprecated and will be removed in SciPy 2.0.0, use numpy.lib.scimath.sqrt instead\n",
      "  D=exp(rho*dt-sigma*sqrt(dt))\n",
      "<ipython-input-4-37cf9afa1894>:12: DeprecationWarning: scipy.exp is deprecated and will be removed in SciPy 2.0.0, use numpy.exp instead\n",
      "  D=exp(rho*dt-sigma*sqrt(dt))\n",
      "<ipython-input-4-37cf9afa1894>:13: DeprecationWarning: scipy.sqrt is deprecated and will be removed in SciPy 2.0.0, use numpy.lib.scimath.sqrt instead\n",
      "  U=exp(rho*dt+sigma*sqrt(dt))\n",
      "<ipython-input-4-37cf9afa1894>:13: DeprecationWarning: scipy.exp is deprecated and will be removed in SciPy 2.0.0, use numpy.exp instead\n",
      "  U=exp(rho*dt+sigma*sqrt(dt))\n",
      "<ipython-input-4-37cf9afa1894>:14: DeprecationWarning: scipy.exp is deprecated and will be removed in SciPy 2.0.0, use numpy.exp instead\n",
      "  R=(exp(r*dt))\n",
      "<ipython-input-4-37cf9afa1894>:16: DeprecationWarning: scipy.zeros is deprecated and will be removed in SciPy 2.0.0, use numpy.zeros instead\n",
      "  Vold=zeros(N+1)\n",
      "<ipython-input-4-37cf9afa1894>:17: DeprecationWarning: scipy.zeros is deprecated and will be removed in SciPy 2.0.0, use numpy.zeros instead\n",
      "  Vnew=zeros(N+1)\n"
     ]
    },
    {
     "name": "stdout",
     "output_type": "stream",
     "text": [
      "Errors between JR and Blackscholes is 0.011639865398272775\n",
      "Errors between JR and Blackscholes is -0.00043858708788846457\n",
      "Errors between JR and Blackscholes is 0.005546044957604579\n",
      "Erros between European LR method and Blackscholes is -1.1543393526380896e-05\n"
     ]
    },
    {
     "name": "stderr",
     "output_type": "stream",
     "text": [
      "<ipython-input-7-a4eec3dbab15>:14: DeprecationWarning: scipy.log is deprecated and will be removed in SciPy 2.0.0, use numpy.lib.scimath.log instead\n",
      "  d1=(log(S0/E)+(r+0.5*sigma**2)*T)/(sigma*sqrt(T))\n",
      "<ipython-input-7-a4eec3dbab15>:14: DeprecationWarning: scipy.sqrt is deprecated and will be removed in SciPy 2.0.0, use numpy.lib.scimath.sqrt instead\n",
      "  d1=(log(S0/E)+(r+0.5*sigma**2)*T)/(sigma*sqrt(T))\n",
      "<ipython-input-7-a4eec3dbab15>:15: DeprecationWarning: scipy.sqrt is deprecated and will be removed in SciPy 2.0.0, use numpy.lib.scimath.sqrt instead\n",
      "  d2=d1-sigma*sqrt(T)\n",
      "<ipython-input-7-a4eec3dbab15>:18: DeprecationWarning: scipy.sign is deprecated and will be removed in SciPy 2.0.0, use numpy.sign instead\n",
      "  q1=0.5 + 0.5*sign(d1)*sqrt((1-exp(-a1)))\n",
      "<ipython-input-7-a4eec3dbab15>:18: DeprecationWarning: scipy.exp is deprecated and will be removed in SciPy 2.0.0, use numpy.exp instead\n",
      "  q1=0.5 + 0.5*sign(d1)*sqrt((1-exp(-a1)))\n",
      "<ipython-input-7-a4eec3dbab15>:18: DeprecationWarning: scipy.sqrt is deprecated and will be removed in SciPy 2.0.0, use numpy.lib.scimath.sqrt instead\n",
      "  q1=0.5 + 0.5*sign(d1)*sqrt((1-exp(-a1)))\n",
      "<ipython-input-7-a4eec3dbab15>:19: DeprecationWarning: scipy.sign is deprecated and will be removed in SciPy 2.0.0, use numpy.sign instead\n",
      "  q=0.5 + 0.5*sign(d2)*sqrt((1-exp(-a2)))\n",
      "<ipython-input-7-a4eec3dbab15>:19: DeprecationWarning: scipy.exp is deprecated and will be removed in SciPy 2.0.0, use numpy.exp instead\n",
      "  q=0.5 + 0.5*sign(d2)*sqrt((1-exp(-a2)))\n",
      "<ipython-input-7-a4eec3dbab15>:19: DeprecationWarning: scipy.sqrt is deprecated and will be removed in SciPy 2.0.0, use numpy.lib.scimath.sqrt instead\n",
      "  q=0.5 + 0.5*sign(d2)*sqrt((1-exp(-a2)))\n",
      "<ipython-input-7-a4eec3dbab15>:22: DeprecationWarning: scipy.zeros is deprecated and will be removed in SciPy 2.0.0, use numpy.zeros instead\n",
      "  Vold=zeros(N+1)\n",
      "<ipython-input-7-a4eec3dbab15>:23: DeprecationWarning: scipy.zeros is deprecated and will be removed in SciPy 2.0.0, use numpy.zeros instead\n",
      "  Vnew=zeros(N+1)\n"
     ]
    },
    {
     "name": "stdout",
     "output_type": "stream",
     "text": [
      "Erros between European LR method and Blackscholes is -6.512491317778313e-06\n",
      "Erros between European LR method and Blackscholes is -4.1754487654088734e-06\n",
      "Errors between European trinomial method and Blacscholes is -0.00147195718903248\n",
      "Errors between European trinomial method and Blacscholes is -0.006288453151693574\n",
      "Errors between European trinomial method and Blacscholes is -0.0006110649812747226\n"
     ]
    }
   ],
   "source": [
    "#Errors->JR AND Black Scholes\n",
    "print(\"Errors between JR and Blackscholes is\", Eu_jr(S0,E,T,300,r,sigma)-V_call)\n",
    "print(\"Errors between JR and Blackscholes is\", Eu_jr(S0,E,T,400,r,sigma)-V_call)\n",
    "print(\"Errors between JR and Blackscholes is\", Eu_jr(S0,E,T,500,r,sigma)-V_call)\n",
    "\n",
    "#Erros->LR and Black Scholes\n",
    "print(\"Erros between European LR method and Blackscholes is\", Eu_lr(S0,E,T,300,r,sigma)-V_call)\n",
    "print(\"Erros between European LR method and Blackscholes is\", Eu_lr(S0,E,T,400,r,sigma)-V_call)\n",
    "print(\"Erros between European LR method and Blackscholes is\", Eu_lr(S0,E,T,500,r,sigma)-V_call)\n",
    "\n",
    "#Erros->Trinomial and Black Scholes\n",
    "\n",
    "print(\"Errors between European trinomial method and Blacscholes is\", Eu_trinomial(S0,E,T,r,DividendYield,sigma,300)-V_call)\n",
    "print(\"Errors between European trinomial method and Blacscholes is\", Eu_trinomial(S0,E,T,r,DividendYield,sigma,400)-V_call)\n",
    "print(\"Errors between European trinomial method and Blacscholes is\", Eu_trinomial(S0,E,T,r,DividendYield,sigma,500)-V_call)"
   ]
  },
  {
   "cell_type": "code",
   "execution_count": 18,
   "id": "0c42c392-eff1-4453-a208-408693881762",
   "metadata": {},
   "outputs": [
    {
     "name": "stderr",
     "output_type": "stream",
     "text": [
      "<ipython-input-18-e358c7e1b547>:2: DeprecationWarning: scipy.zeros is deprecated and will be removed in SciPy 2.0.0, use numpy.zeros instead\n",
      "  Vtri=zeros(501)\n",
      "<ipython-input-18-e358c7e1b547>:3: DeprecationWarning: scipy.zeros is deprecated and will be removed in SciPy 2.0.0, use numpy.zeros instead\n",
      "  Vjr=zeros(501)\n",
      "<ipython-input-18-e358c7e1b547>:4: DeprecationWarning: scipy.zeros is deprecated and will be removed in SciPy 2.0.0, use numpy.zeros instead\n",
      "  Vlr=zeros(501)\n",
      "<ipython-input-4-37cf9afa1894>:12: DeprecationWarning: scipy.sqrt is deprecated and will be removed in SciPy 2.0.0, use numpy.lib.scimath.sqrt instead\n",
      "  D=exp(rho*dt-sigma*sqrt(dt))\n",
      "<ipython-input-4-37cf9afa1894>:12: DeprecationWarning: scipy.exp is deprecated and will be removed in SciPy 2.0.0, use numpy.exp instead\n",
      "  D=exp(rho*dt-sigma*sqrt(dt))\n",
      "<ipython-input-4-37cf9afa1894>:13: DeprecationWarning: scipy.sqrt is deprecated and will be removed in SciPy 2.0.0, use numpy.lib.scimath.sqrt instead\n",
      "  U=exp(rho*dt+sigma*sqrt(dt))\n",
      "<ipython-input-4-37cf9afa1894>:13: DeprecationWarning: scipy.exp is deprecated and will be removed in SciPy 2.0.0, use numpy.exp instead\n",
      "  U=exp(rho*dt+sigma*sqrt(dt))\n",
      "<ipython-input-4-37cf9afa1894>:14: DeprecationWarning: scipy.exp is deprecated and will be removed in SciPy 2.0.0, use numpy.exp instead\n",
      "  R=(exp(r*dt))\n",
      "<ipython-input-4-37cf9afa1894>:16: DeprecationWarning: scipy.zeros is deprecated and will be removed in SciPy 2.0.0, use numpy.zeros instead\n",
      "  Vold=zeros(N+1)\n",
      "<ipython-input-4-37cf9afa1894>:17: DeprecationWarning: scipy.zeros is deprecated and will be removed in SciPy 2.0.0, use numpy.zeros instead\n",
      "  Vnew=zeros(N+1)\n",
      "<ipython-input-7-a4eec3dbab15>:14: DeprecationWarning: scipy.log is deprecated and will be removed in SciPy 2.0.0, use numpy.lib.scimath.log instead\n",
      "  d1=(log(S0/E)+(r+0.5*sigma**2)*T)/(sigma*sqrt(T))\n",
      "<ipython-input-7-a4eec3dbab15>:14: DeprecationWarning: scipy.sqrt is deprecated and will be removed in SciPy 2.0.0, use numpy.lib.scimath.sqrt instead\n",
      "  d1=(log(S0/E)+(r+0.5*sigma**2)*T)/(sigma*sqrt(T))\n",
      "<ipython-input-7-a4eec3dbab15>:15: DeprecationWarning: scipy.sqrt is deprecated and will be removed in SciPy 2.0.0, use numpy.lib.scimath.sqrt instead\n",
      "  d2=d1-sigma*sqrt(T)\n",
      "<ipython-input-7-a4eec3dbab15>:18: DeprecationWarning: scipy.sign is deprecated and will be removed in SciPy 2.0.0, use numpy.sign instead\n",
      "  q1=0.5 + 0.5*sign(d1)*sqrt((1-exp(-a1)))\n",
      "<ipython-input-7-a4eec3dbab15>:18: DeprecationWarning: scipy.exp is deprecated and will be removed in SciPy 2.0.0, use numpy.exp instead\n",
      "  q1=0.5 + 0.5*sign(d1)*sqrt((1-exp(-a1)))\n",
      "<ipython-input-7-a4eec3dbab15>:18: DeprecationWarning: scipy.sqrt is deprecated and will be removed in SciPy 2.0.0, use numpy.lib.scimath.sqrt instead\n",
      "  q1=0.5 + 0.5*sign(d1)*sqrt((1-exp(-a1)))\n",
      "<ipython-input-7-a4eec3dbab15>:19: DeprecationWarning: scipy.sign is deprecated and will be removed in SciPy 2.0.0, use numpy.sign instead\n",
      "  q=0.5 + 0.5*sign(d2)*sqrt((1-exp(-a2)))\n",
      "<ipython-input-7-a4eec3dbab15>:19: DeprecationWarning: scipy.exp is deprecated and will be removed in SciPy 2.0.0, use numpy.exp instead\n",
      "  q=0.5 + 0.5*sign(d2)*sqrt((1-exp(-a2)))\n",
      "<ipython-input-7-a4eec3dbab15>:19: DeprecationWarning: scipy.sqrt is deprecated and will be removed in SciPy 2.0.0, use numpy.lib.scimath.sqrt instead\n",
      "  q=0.5 + 0.5*sign(d2)*sqrt((1-exp(-a2)))\n",
      "<ipython-input-7-a4eec3dbab15>:22: DeprecationWarning: scipy.zeros is deprecated and will be removed in SciPy 2.0.0, use numpy.zeros instead\n",
      "  Vold=zeros(N+1)\n",
      "<ipython-input-7-a4eec3dbab15>:23: DeprecationWarning: scipy.zeros is deprecated and will be removed in SciPy 2.0.0, use numpy.zeros instead\n",
      "  Vnew=zeros(N+1)\n",
      "<ipython-input-18-e358c7e1b547>:9: DeprecationWarning: scipy.ones is deprecated and will be removed in SciPy 2.0.0, use numpy.ones instead\n",
      "  VP=V_call*ones(501)\n",
      "<ipython-input-18-e358c7e1b547>:10: DeprecationWarning: scipy.linspace is deprecated and will be removed in SciPy 2.0.0, use numpy.linspace instead\n",
      "  n = linspace(0, 500, 501)\n"
     ]
    },
    {
     "data": {
      "image/png": "[encoded data removed]",
      "text/plain": [
       "<Figure size 432x288 with 1 Axes>"
      ]
     },
     "metadata": {
      "needs_background": "light"
     },
     "output_type": "display_data"
    }
   ],
   "source": [
    "#EU option\n",
    "Vtri=zeros(501)\n",
    "Vjr=zeros(501)\n",
    "Vlr=zeros(501)\n",
    "for k in range(30,501):\n",
    "    Vtri[k]=Eu_trinomial(S0,E,T,r,DividendYield,sigma,N=k)\n",
    "    Vjr[k]=Eu_jr(S0=S0,E=E,T=T,N=k,r=r,sigma=sigma)\n",
    "    Vlr[k]=Eu_lr(S0=S0,E=E,T=T,N=k,r=r,sigma=sigma)\n",
    "VP=V_call*ones(501)\n",
    "n = linspace(0, 500, 501)\n",
    "plt.plot(n, Vtri)\n",
    "plt.plot(n, Vjr)\n",
    "plt.plot(n, Vlr)\n",
    "plt.plot(n,VP)\n",
    "plt.xlim((30, 500))\n",
    "plt.ylim((18,19))\n",
    "plt.ylabel('Price')\n",
    "plt.xlabel('N')\n",
    "plt.legend(['Trinomial', 'Jarrow-Rudd', 'Leisen-Reimer', 'Limit price'], loc='best')\n",
    "plt.title('Price of the European call option')\n",
    "plt.show()"
   ]
  },
  {
   "cell_type": "code",
   "execution_count": 19,
   "id": "6a9bfaa6-9bef-404b-88c3-a2066918bc34",
   "metadata": {},
   "outputs": [
    {
     "name": "stderr",
     "output_type": "stream",
     "text": [
      "<ipython-input-19-7b613068f93c>:2: DeprecationWarning: scipy.zeros is deprecated and will be removed in SciPy 2.0.0, use numpy.zeros instead\n",
      "  Vtri_american=zeros(501)\n",
      "<ipython-input-19-7b613068f93c>:3: DeprecationWarning: scipy.zeros is deprecated and will be removed in SciPy 2.0.0, use numpy.zeros instead\n",
      "  Vjr_american=zeros(501)\n",
      "<ipython-input-19-7b613068f93c>:4: DeprecationWarning: scipy.zeros is deprecated and will be removed in SciPy 2.0.0, use numpy.zeros instead\n",
      "  Vlr_american=zeros(501)\n",
      "<ipython-input-5-b372841395c9>:12: DeprecationWarning: scipy.sqrt is deprecated and will be removed in SciPy 2.0.0, use numpy.lib.scimath.sqrt instead\n",
      "  D=exp(rho*dt-sigma*sqrt(dt))\n",
      "<ipython-input-5-b372841395c9>:12: DeprecationWarning: scipy.exp is deprecated and will be removed in SciPy 2.0.0, use numpy.exp instead\n",
      "  D=exp(rho*dt-sigma*sqrt(dt))\n",
      "<ipython-input-5-b372841395c9>:13: DeprecationWarning: scipy.sqrt is deprecated and will be removed in SciPy 2.0.0, use numpy.lib.scimath.sqrt instead\n",
      "  U=exp(rho*dt+sigma*sqrt(dt))\n",
      "<ipython-input-5-b372841395c9>:13: DeprecationWarning: scipy.exp is deprecated and will be removed in SciPy 2.0.0, use numpy.exp instead\n",
      "  U=exp(rho*dt+sigma*sqrt(dt))\n",
      "<ipython-input-5-b372841395c9>:14: DeprecationWarning: scipy.exp is deprecated and will be removed in SciPy 2.0.0, use numpy.exp instead\n",
      "  R=(exp(r*dt))\n",
      "<ipython-input-5-b372841395c9>:16: DeprecationWarning: scipy.zeros is deprecated and will be removed in SciPy 2.0.0, use numpy.zeros instead\n",
      "  Vold=zeros(N+1)\n",
      "<ipython-input-5-b372841395c9>:17: DeprecationWarning: scipy.zeros is deprecated and will be removed in SciPy 2.0.0, use numpy.zeros instead\n",
      "  Vnew=zeros(N+1)\n",
      "<ipython-input-8-1d2b7086ca84>:14: DeprecationWarning: scipy.log is deprecated and will be removed in SciPy 2.0.0, use numpy.lib.scimath.log instead\n",
      "  d1=(log(S0/E)+(r+0.5*sigma**2)*T)/(sigma*sqrt(T))\n",
      "<ipython-input-8-1d2b7086ca84>:14: DeprecationWarning: scipy.sqrt is deprecated and will be removed in SciPy 2.0.0, use numpy.lib.scimath.sqrt instead\n",
      "  d1=(log(S0/E)+(r+0.5*sigma**2)*T)/(sigma*sqrt(T))\n",
      "<ipython-input-8-1d2b7086ca84>:15: DeprecationWarning: scipy.sqrt is deprecated and will be removed in SciPy 2.0.0, use numpy.lib.scimath.sqrt instead\n",
      "  d2=d1-sigma*sqrt(T)\n",
      "<ipython-input-8-1d2b7086ca84>:18: DeprecationWarning: scipy.sign is deprecated and will be removed in SciPy 2.0.0, use numpy.sign instead\n",
      "  q1=0.5 + 0.5*sign(d1)*sqrt((1-exp(-a1)))\n",
      "<ipython-input-8-1d2b7086ca84>:18: DeprecationWarning: scipy.exp is deprecated and will be removed in SciPy 2.0.0, use numpy.exp instead\n",
      "  q1=0.5 + 0.5*sign(d1)*sqrt((1-exp(-a1)))\n",
      "<ipython-input-8-1d2b7086ca84>:18: DeprecationWarning: scipy.sqrt is deprecated and will be removed in SciPy 2.0.0, use numpy.lib.scimath.sqrt instead\n",
      "  q1=0.5 + 0.5*sign(d1)*sqrt((1-exp(-a1)))\n",
      "<ipython-input-8-1d2b7086ca84>:19: DeprecationWarning: scipy.sign is deprecated and will be removed in SciPy 2.0.0, use numpy.sign instead\n",
      "  q=0.5 + 0.5*sign(d2)*sqrt((1-exp(-a2)))\n",
      "<ipython-input-8-1d2b7086ca84>:19: DeprecationWarning: scipy.exp is deprecated and will be removed in SciPy 2.0.0, use numpy.exp instead\n",
      "  q=0.5 + 0.5*sign(d2)*sqrt((1-exp(-a2)))\n",
      "<ipython-input-8-1d2b7086ca84>:19: DeprecationWarning: scipy.sqrt is deprecated and will be removed in SciPy 2.0.0, use numpy.lib.scimath.sqrt instead\n",
      "  q=0.5 + 0.5*sign(d2)*sqrt((1-exp(-a2)))\n",
      "<ipython-input-8-1d2b7086ca84>:22: DeprecationWarning: scipy.zeros is deprecated and will be removed in SciPy 2.0.0, use numpy.zeros instead\n",
      "  Vold=zeros(N+1)\n",
      "<ipython-input-8-1d2b7086ca84>:23: DeprecationWarning: scipy.zeros is deprecated and will be removed in SciPy 2.0.0, use numpy.zeros instead\n",
      "  Vnew=zeros(N+1)\n",
      "<ipython-input-19-7b613068f93c>:9: DeprecationWarning: scipy.linspace is deprecated and will be removed in SciPy 2.0.0, use numpy.linspace instead\n",
      "  n = linspace(0, 500, 501)\n"
     ]
    },
    {
     "data": {
      "image/png": "[encoded data removed]",
      "text/plain": [
       "<Figure size 432x288 with 1 Axes>"
      ]
     },
     "metadata": {
      "needs_background": "light"
     },
     "output_type": "display_data"
    }
   ],
   "source": [
    "#American option \n",
    "Vtri_american=zeros(501)\n",
    "Vjr_american=zeros(501)\n",
    "Vlr_american=zeros(501)\n",
    "for k in range(30,501):\n",
    "    Vtri_american[k]=American_trinomial(S0,E,T,r,DividendYield,sigma,N=k)\n",
    "    Vjr_american[k]=Americ_jr(S0=S0,E=E,T=T,N=k,r=r,sigma=sigma)\n",
    "    Vlr_american[k]=Americ_lr(S0=S0,E=E,T=T,N=k,r=r,sigma=sigma)\n",
    "n = linspace(0, 500, 501)\n",
    "plt.plot(n, Vtri_american)\n",
    "plt.plot(n, Vjr_american)\n",
    "plt.plot(n, Vlr_american)\n",
    "plt.xlim((30, 500))\n",
    "plt.ylim((26,27))\n",
    "plt.ylabel('Price')\n",
    "plt.xlabel('N')\n",
    "plt.legend(['Trinomial', 'Jarrow-Rudd', 'Leisen-Reimer'], loc='best')\n",
    "plt.title('Price of the American call option')\n",
    "plt.show()"
   ]
  },
  {
   "cell_type": "code",
   "execution_count": null,
   "id": "342857dc-0036-42b8-bc4b-a7ccc9a2a40c",
   "metadata": {},
   "outputs": [],
   "source": []
  },
  {
   "cell_type": "code",
   "execution_count": null,
   "id": "b9c801ec-6fd2-4fc8-a1e7-5045dfc91888",
   "metadata": {},
   "outputs": [],
   "source": []
  },
  {
   "cell_type": "code",
   "execution_count": null,
   "id": "8adb6e7a-2865-447e-95d7-bc3d954a6d8d",
   "metadata": {},
   "outputs": [],
   "source": []
  }
 ],
 "metadata": {
  "kernelspec": {
   "display_name": "Python 3",
   "language": "python",
   "name": "python3"
  },
  "language_info": {
   "codemirror_mode": {
    "name": "ipython",
    "version": 3
   },
   "file_extension": ".py",
   "mimetype": "text/x-python",
   "name": "python",
   "nbconvert_exporter": "python",
   "pygments_lexer": "ipython3",
   "version": "3.8.8"
  }
 },
 "nbformat": 4,
 "nbformat_minor": 5
}
